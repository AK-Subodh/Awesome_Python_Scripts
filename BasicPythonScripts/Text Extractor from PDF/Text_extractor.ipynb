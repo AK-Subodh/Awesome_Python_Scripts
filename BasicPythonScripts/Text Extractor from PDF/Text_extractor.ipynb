{
  "nbformat": 4,
  "nbformat_minor": 0,
  "metadata": {
    "colab": {
      "name": "Untitled4.ipynb",
      "provenance": []
    },
    "kernelspec": {
      "name": "python3",
      "display_name": "Python 3"
    },
    "language_info": {
      "name": "python"
    }
  },
  "cells": [
    {
      "cell_type": "code",
      "metadata": {
        "colab": {
          "base_uri": "https://localhost:8080/"
        },
        "id": "F9rCf4v1b3Jd",
        "outputId": "9431c6f5-0913-4a28-e318-82220fc83844"
      },
      "source": [
        "pip install PyPDF2"
      ],
      "execution_count": 2,
      "outputs": [
        {
          "output_type": "stream",
          "text": [
            "Collecting PyPDF2\n",
            "\u001b[?25l  Downloading https://files.pythonhosted.org/packages/b4/01/68fcc0d43daf4c6bdbc6b33cc3f77bda531c86b174cac56ef0ffdb96faab/PyPDF2-1.26.0.tar.gz (77kB)\n",
            "\r\u001b[K     |████▎                           | 10kB 13.6MB/s eta 0:00:01\r\u001b[K     |████████▌                       | 20kB 18.7MB/s eta 0:00:01\r\u001b[K     |████████████▊                   | 30kB 10.6MB/s eta 0:00:01\r\u001b[K     |█████████████████               | 40kB 8.6MB/s eta 0:00:01\r\u001b[K     |█████████████████████▏          | 51kB 5.2MB/s eta 0:00:01\r\u001b[K     |█████████████████████████▍      | 61kB 5.4MB/s eta 0:00:01\r\u001b[K     |█████████████████████████████▋  | 71kB 5.8MB/s eta 0:00:01\r\u001b[K     |████████████████████████████████| 81kB 4.1MB/s \n",
            "\u001b[?25hBuilding wheels for collected packages: PyPDF2\n",
            "  Building wheel for PyPDF2 (setup.py) ... \u001b[?25l\u001b[?25hdone\n",
            "  Created wheel for PyPDF2: filename=PyPDF2-1.26.0-cp37-none-any.whl size=61102 sha256=a749e60fc29b48c61afe9bec6c9bff311176a13b788782119578e6c386e2a388\n",
            "  Stored in directory: /root/.cache/pip/wheels/53/84/19/35bc977c8bf5f0c23a8a011aa958acd4da4bbd7a229315c1b7\n",
            "Successfully built PyPDF2\n",
            "Installing collected packages: PyPDF2\n",
            "Successfully installed PyPDF2-1.26.0\n"
          ],
          "name": "stdout"
        }
      ]
    },
    {
      "cell_type": "code",
      "metadata": {
        "colab": {
          "base_uri": "https://localhost:8080/"
        },
        "id": "gq7zpZK3bWXF",
        "outputId": "428b09cd-f624-4c53-c3bf-9b443b43c274"
      },
      "source": [
        "# Import the Module\n",
        "import PyPDF2\n",
        "\n",
        "# Reading our PDF, for extracting text\n",
        "a = PyPDF2.PdfFileReader('file_name.pdf')\n",
        "\n",
        "# Initialize an empty string\n",
        "pdf_text = \"\"\n",
        "\n",
        "# getNumPages() gives the number of pages in our pdf\n",
        "pgno = a.getNumPages()\n",
        "\n",
        "\n",
        "# Parsing through each page number\n",
        "for i in range(1, pgno):\n",
        "    \n",
        "    # extractText() will give us the text associated with the corresponding ith page\n",
        "    pdf_text += a.getPage(i).extractText()\n",
        "    \n",
        "    \n",
        "# create \"extracted_text.txt\" file, where we write our extracted text\n",
        "# using the string pdf_text\n",
        "\n",
        "with open('extracted_text.txt', 'w', encoding = 'utf-8') as f:\n",
        "    f.write(pdf_text)"
      ],
      "execution_count": 9,
      "outputs": [
        {
          "output_type": "stream",
          "text": [
            "\n"
          ],
          "name": "stdout"
        }
      ]
    }
  ]
}