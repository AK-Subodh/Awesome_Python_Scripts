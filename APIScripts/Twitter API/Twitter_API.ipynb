{
  "nbformat": 4,
  "nbformat_minor": 0,
  "metadata": {
    "colab": {
      "name": "Twitter API.ipynb",
      "provenance": []
    },
    "kernelspec": {
      "name": "python3",
      "display_name": "Python 3"
    },
    "language_info": {
      "name": "python"
    }
  },
  "cells": [
    {
      "cell_type": "code",
      "metadata": {
        "id": "JTQaMODoslBA"
      },
      "source": [
        "#import necessary libraries\n",
        "\n",
        "from google.colab import drive  # to mount Google Drive to Colab notebook\n",
        "import tweepy                   # Python wrapper around Twitter API\n",
        "import pandas as pd\n",
        "import csv\n",
        "from datetime import date\n",
        "from datetime import datetime\n",
        "import time"
      ],
      "execution_count": 1,
      "outputs": []
    },
    {
      "cell_type": "code",
      "metadata": {
        "colab": {
          "base_uri": "https://localhost:8080/"
        },
        "id": "FnCAO05tsrrv",
        "outputId": "964984c5-506b-4c67-ac34-f56e23c7a4a5"
      },
      "source": [
        "# Mounting Google Drive\n",
        "\n",
        "drive.mount('/content/gdrive')\n",
        "path = './gdrive/My Drive/'"
      ],
      "execution_count": 2,
      "outputs": [
        {
          "output_type": "stream",
          "text": [
            "Mounted at /content/gdrive\n"
          ],
          "name": "stdout"
        }
      ]
    },
    {
      "cell_type": "code",
      "metadata": {
        "id": "XsuHMNlbyPgv"
      },
      "source": [
        "# Load Twitter API secrets from an external file\n",
        "secrets = pd.read_csv('/content/gdrive/MyDrive/secrets.csv')\n",
        "\n",
        "consumer_key = secrets['consumer_key'][0]\n",
        "consumer_secret = secrets['consumer_secret'][0]\n",
        "access_token = secrets['access_token'][0]\n",
        "access_token_secret = secrets['access_token_secret'][0]\n",
        "\n",
        "auth = tweepy.OAuthHandler(consumer_key, consumer_secret)\n",
        "auth.set_access_token(access_token, access_token_secret)\n",
        "auth.secure = True\n",
        "api = tweepy.API(auth, wait_on_rate_limit=True, wait_on_rate_limit_notify=True)"
      ],
      "execution_count": 3,
      "outputs": []
    },
    {
      "cell_type": "code",
      "metadata": {
        "id": "RLPxR7uI2Dke"
      },
      "source": [
        "# Helper function to handle twitter API rate limit\n",
        "\n",
        "def limit_handled(cursor, list_name):\n",
        "    while True:\n",
        "        try:\n",
        "            yield cursor.next()\n",
        "        except tweepy.RateLimitError:\n",
        "            print(\"\\nCurrent number of data points in list = \" + str(len(list_name)))\n",
        "            print('Hit Twitter API rate limit.')\n",
        "            for i in range(3, 0, -1):\n",
        "              print(\"Wait for {} mins.\".format(i * 5))\n",
        "              time.sleep(5 * 60)\n",
        "        except tweepy.error.TweepError:\n",
        "            print('\\nCaught TweepError exception' )"
      ],
      "execution_count": 4,
      "outputs": []
    },
    {
      "cell_type": "code",
      "metadata": {
        "id": "6oqW0rNY2Mjt"
      },
      "source": [
        "# Helper function to get all tweets for a specified user\n",
        "\n",
        "def user_tweets(screen_name, number_of_tweets):\n",
        "\n",
        "  # A list to hold all tweets by tweepy\n",
        "\talltweets = []\t\n",
        "\n",
        "  # To extract initial 200 tweets(most recent)\n",
        "\tnew_tweets = api.user_timeline(screen_name = screen_name,count=200)\n",
        "\n",
        "  # Add these to the list\n",
        "\talltweets.extend(new_tweets)\n",
        "\n",
        "  # save the id of the oldest tweet less one\n",
        "\toldest = alltweets[-1].id - 1\n",
        "\n",
        "  # keep grabbing tweets until we reach the desired limit\n",
        "\twhile(len(alltweets)<number_of_tweets):\n",
        "\t\tprint(\"getting tweets before %s\" % (oldest))\n",
        "\t\n",
        "    # all subsiquent requests use the max_id parameter to prevent duplicates\n",
        "\t\tnew_tweets = api.user_timeline(screen_name = screen_name,count=200,max_id=oldest)\n",
        "\t\n",
        "    # Add these to the list\n",
        "\t\talltweets.extend(new_tweets)\n",
        "\t\n",
        "    # update the id of the oldest tweet less one\n",
        "\t\toldest = alltweets[-1].id - 1\n",
        "\t\t\n",
        "\t\tprint(\"...%s tweets downloaded so far\" % (len(alltweets)))\n",
        "\t# store them as a 2D array which would later be used to write the csv file\n",
        "\touttweets = [[tweet.id_str, tweet.created_at, tweet.text, tweet.favorite_count, \n",
        "\t              tweet.in_reply_to_screen_name, tweet.retweeted] for tweet in alltweets]\n",
        "\t\n",
        "\t# write the csv\t\n",
        "\twith open(path + '%s_tweets.csv' % screen_name, 'w') as f:\n",
        "\t\twriter = csv.writer(f)\n",
        "\t\twriter.writerow([\"id\",\"created_at\",\"text\",\"likes\",\"in reply to\",\"retweeted\"])\n",
        "\t\twriter.writerows(outtweets)\n",
        "\t\n",
        "\tpass"
      ],
      "execution_count": 5,
      "outputs": []
    },
    {
      "cell_type": "code",
      "metadata": {
        "id": "yw3o17UTsocS"
      },
      "source": [
        "# Helper function to get all tweets containing a specific keyword\n",
        "\n",
        "def keyword_tweets(search_query, number_of_tweets):\n",
        "\n",
        "\talltweets = []\t\n",
        "\t\n",
        "\tnew_tweets = api.search(q=search_query,count=200)\n",
        "\t\n",
        "\talltweets.extend(new_tweets)\n",
        "\t\n",
        "\toldest = alltweets[-1].id - 1\n",
        "\t\n",
        "\twhile(len(alltweets)<number_of_tweets):\n",
        "\t\tprint(\"getting tweets before %s\" % (oldest))\n",
        "\t\t\n",
        "\t\tnew_tweets = api.search(q=search_query,count=200,max_id=oldest)\n",
        "\t\t\n",
        "\t\talltweets.extend(new_tweets)\n",
        "\t\t\n",
        "\t\toldest = alltweets[-1].id - 1\n",
        "\t\t\n",
        "\t\tprint(\"...%s tweets downloaded so far\" % (len(alltweets)))\n",
        "\t\n",
        "\touttweets = [[tweet.id_str, tweet.created_at, tweet.text, tweet.favorite_count, \n",
        "\t              tweet.in_reply_to_screen_name, tweet.retweeted] for tweet in alltweets]\n",
        "\t\n",
        "\t# write the csv\t\n",
        "\twith open(path + '%s_tweets.csv' % search_query, 'w') as f:\n",
        "\t\twriter = csv.writer(f)\n",
        "\t\twriter.writerow([\"id\",\"created_at\",\"text\",\"likes\",\"in reply to\",\"retweeted\"])\n",
        "\t\twriter.writerows(outtweets)\n",
        "\t\n",
        "\tpass"
      ],
      "execution_count": 6,
      "outputs": []
    },
    {
      "cell_type": "code",
      "metadata": {
        "colab": {
          "base_uri": "https://localhost:8080/"
        },
        "id": "sB13pEvbrOUk",
        "outputId": "94b182b0-b579-45a9-d35c-937fe596eb0a"
      },
      "source": [
        "# Main driver code\n",
        "\n",
        "if __name__ == '__main__':\n",
        "  choice = int(input('''Do you wish to search by:\n",
        "          1. Twitter id\n",
        "          2. Keyword\\n'''))\n",
        "  if(choice==1):\n",
        "    user_id = input(\"Please provide the twitter id: \")\n",
        "    num = int(input(\"Please provide the number of tweets you wish to extract (<3240): \"))\n",
        "    user_tweets(user_id, num)\n",
        "    tweets = pd.read_csv(path + '%s_tweets.csv'%user_id)\n",
        "  else:\n",
        "    keyword = input(\"Please provide the ingredient you wish to search by: \")\n",
        "    num = int(input(\"Please provide the number of tweets you wish to extract (<3240): \"))\n",
        "    keyword_tweets(keyword, num)\n",
        "    tweets = pd.read_csv(path + '%s_tweets.csv'%keyword)"
      ],
      "execution_count": 7,
      "outputs": [
        {
          "output_type": "stream",
          "text": [
            "Do you wish to search by:\n",
            "          1. Twitter id\n",
            "          2. Keyword\n",
            "2\n",
            "Please provide the ingredient you wish to search by: covid\n",
            "Please provide the number of tweets you wish to extract (<3240): 600\n",
            "getting tweets before 1402882856523808767\n",
            "...200 tweets downloaded so far\n",
            "getting tweets before 1402882813570043904\n",
            "...300 tweets downloaded so far\n",
            "getting tweets before 1402882773740781569\n",
            "...400 tweets downloaded so far\n",
            "getting tweets before 1402882737774776321\n",
            "...500 tweets downloaded so far\n",
            "getting tweets before 1402882704014602248\n",
            "...600 tweets downloaded so far\n"
          ],
          "name": "stdout"
        }
      ]
    },
    {
      "cell_type": "code",
      "metadata": {
        "colab": {
          "base_uri": "https://localhost:8080/",
          "height": 417
        },
        "id": "lm_Lx5w2r-Sb",
        "outputId": "4b0c70ef-3d19-4fa2-f73e-5426badcf70a"
      },
      "source": [
        "tweets"
      ],
      "execution_count": 8,
      "outputs": [
        {
          "output_type": "execute_result",
          "data": {
            "text/html": [
              "<div>\n",
              "<style scoped>\n",
              "    .dataframe tbody tr th:only-of-type {\n",
              "        vertical-align: middle;\n",
              "    }\n",
              "\n",
              "    .dataframe tbody tr th {\n",
              "        vertical-align: top;\n",
              "    }\n",
              "\n",
              "    .dataframe thead th {\n",
              "        text-align: right;\n",
              "    }\n",
              "</style>\n",
              "<table border=\"1\" class=\"dataframe\">\n",
              "  <thead>\n",
              "    <tr style=\"text-align: right;\">\n",
              "      <th></th>\n",
              "      <th>id</th>\n",
              "      <th>created_at</th>\n",
              "      <th>text</th>\n",
              "      <th>likes</th>\n",
              "      <th>in reply to</th>\n",
              "      <th>retweeted</th>\n",
              "    </tr>\n",
              "  </thead>\n",
              "  <tbody>\n",
              "    <tr>\n",
              "      <th>0</th>\n",
              "      <td>1402882891261132800</td>\n",
              "      <td>2021-06-10 06:58:40</td>\n",
              "      <td>RT @mattgaetz: My opponent is the Typhoid Mary...</td>\n",
              "      <td>0</td>\n",
              "      <td>NaN</td>\n",
              "      <td>False</td>\n",
              "    </tr>\n",
              "    <tr>\n",
              "      <th>1</th>\n",
              "      <td>1402882891130961921</td>\n",
              "      <td>2021-06-10 06:58:40</td>\n",
              "      <td>RT @AnnastaciaMP: Thursday 10 June – coronavir...</td>\n",
              "      <td>0</td>\n",
              "      <td>NaN</td>\n",
              "      <td>False</td>\n",
              "    </tr>\n",
              "    <tr>\n",
              "      <th>2</th>\n",
              "      <td>1402882890740899841</td>\n",
              "      <td>2021-06-10 06:58:40</td>\n",
              "      <td>RT @HumasPoldaAceh: Sistem Bubble yang akan di...</td>\n",
              "      <td>0</td>\n",
              "      <td>NaN</td>\n",
              "      <td>False</td>\n",
              "    </tr>\n",
              "    <tr>\n",
              "      <th>3</th>\n",
              "      <td>1402882890694729729</td>\n",
              "      <td>2021-06-10 06:58:40</td>\n",
              "      <td>@aadesh_pande @MNageswarRaoIPS @PypAyurved @sh...</td>\n",
              "      <td>0</td>\n",
              "      <td>aadesh_pande</td>\n",
              "      <td>False</td>\n",
              "    </tr>\n",
              "    <tr>\n",
              "      <th>4</th>\n",
              "      <td>1402882890594144256</td>\n",
              "      <td>2021-06-10 06:58:40</td>\n",
              "      <td>RT @PolForFreedom: Belangrijke keuzes in het l...</td>\n",
              "      <td>0</td>\n",
              "      <td>NaN</td>\n",
              "      <td>False</td>\n",
              "    </tr>\n",
              "    <tr>\n",
              "      <th>...</th>\n",
              "      <td>...</td>\n",
              "      <td>...</td>\n",
              "      <td>...</td>\n",
              "      <td>...</td>\n",
              "      <td>...</td>\n",
              "      <td>...</td>\n",
              "    </tr>\n",
              "    <tr>\n",
              "      <th>595</th>\n",
              "      <td>1402882671135510532</td>\n",
              "      <td>2021-06-10 06:57:47</td>\n",
              "      <td>RT @SharynLeeMcG: Perth people, please get alo...</td>\n",
              "      <td>0</td>\n",
              "      <td>NaN</td>\n",
              "      <td>False</td>\n",
              "    </tr>\n",
              "    <tr>\n",
              "      <th>596</th>\n",
              "      <td>1402882670992965639</td>\n",
              "      <td>2021-06-10 06:57:47</td>\n",
              "      <td>RT @drozcanyucel: Hocam bir insana Aspirin bil...</td>\n",
              "      <td>0</td>\n",
              "      <td>NaN</td>\n",
              "      <td>False</td>\n",
              "    </tr>\n",
              "    <tr>\n",
              "      <th>597</th>\n",
              "      <td>1402882670003109888</td>\n",
              "      <td>2021-06-10 06:57:47</td>\n",
              "      <td>RT @infofoundationx: I've just been told by a ...</td>\n",
              "      <td>0</td>\n",
              "      <td>NaN</td>\n",
              "      <td>False</td>\n",
              "    </tr>\n",
              "    <tr>\n",
              "      <th>598</th>\n",
              "      <td>1402882669185220610</td>\n",
              "      <td>2021-06-10 06:57:47</td>\n",
              "      <td>RT @terrybowman60: @Psyop2020 @crbarnes001 \"ma...</td>\n",
              "      <td>0</td>\n",
              "      <td>NaN</td>\n",
              "      <td>False</td>\n",
              "    </tr>\n",
              "    <tr>\n",
              "      <th>599</th>\n",
              "      <td>1402882668522401792</td>\n",
              "      <td>2021-06-10 06:57:47</td>\n",
              "      <td>RT @sunaibkk: อย่ามั่ว! ประยุทธ์พูดกลางสภาว่าท...</td>\n",
              "      <td>0</td>\n",
              "      <td>NaN</td>\n",
              "      <td>False</td>\n",
              "    </tr>\n",
              "  </tbody>\n",
              "</table>\n",
              "<p>600 rows × 6 columns</p>\n",
              "</div>"
            ],
            "text/plain": [
              "                      id           created_at  ...   in reply to  retweeted\n",
              "0    1402882891261132800  2021-06-10 06:58:40  ...           NaN      False\n",
              "1    1402882891130961921  2021-06-10 06:58:40  ...           NaN      False\n",
              "2    1402882890740899841  2021-06-10 06:58:40  ...           NaN      False\n",
              "3    1402882890694729729  2021-06-10 06:58:40  ...  aadesh_pande      False\n",
              "4    1402882890594144256  2021-06-10 06:58:40  ...           NaN      False\n",
              "..                   ...                  ...  ...           ...        ...\n",
              "595  1402882671135510532  2021-06-10 06:57:47  ...           NaN      False\n",
              "596  1402882670992965639  2021-06-10 06:57:47  ...           NaN      False\n",
              "597  1402882670003109888  2021-06-10 06:57:47  ...           NaN      False\n",
              "598  1402882669185220610  2021-06-10 06:57:47  ...           NaN      False\n",
              "599  1402882668522401792  2021-06-10 06:57:47  ...           NaN      False\n",
              "\n",
              "[600 rows x 6 columns]"
            ]
          },
          "metadata": {
            "tags": []
          },
          "execution_count": 8
        }
      ]
    }
  ]
}